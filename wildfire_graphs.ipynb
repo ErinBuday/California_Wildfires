{
 "cells": [
  {
   "cell_type": "code",
   "execution_count": 1,
   "id": "2dcbd8b0",
   "metadata": {},
   "outputs": [],
   "source": [
    "import pandas as pd\n",
    "from datetime import datetime, timedelta, timezone\n",
    "import numpy as np\n",
    "from matplotlib import pyplot as plt\n",
    "\n",
    "fire_perimeters = \"WFIGS_-_Current_Wildland_Fire_Perimeters.csv\"\n",
    "fire_locations = \"WFIGS_-_Wildland_Fire_Locations_Full_History.csv\""
   ]
  },
  {
   "cell_type": "code",
   "execution_count": 2,
   "id": "e2e9e35e",
   "metadata": {},
   "outputs": [
    {
     "name": "stderr",
     "output_type": "stream",
     "text": [
      "C:\\Users\\wallh\\anaconda3\\lib\\site-packages\\IPython\\core\\interactiveshell.py:3444: DtypeWarning: Columns (13,14,32,61,64,77,94,95) have mixed types.Specify dtype option on import or set low_memory=False.\n",
      "  exec(code_obj, self.user_global_ns, self.user_ns)\n"
     ]
    }
   ],
   "source": [
    "fire_perimeters_df = pd.read_csv(fire_perimeters)\n",
    "fire_locations_df = pd.read_csv(fire_locations)"
   ]
  },
  {
   "cell_type": "code",
   "execution_count": 4,
   "id": "f71cee99",
   "metadata": {},
   "outputs": [
    {
     "data": {
      "text/plain": [
       "Index(['X', 'Y', 'OBJECTID', 'ABCDMisc', 'ADSPermissionState',\n",
       "       'CalculatedAcres', 'ContainmentDateTime', 'ControlDateTime',\n",
       "       'DailyAcres', 'DiscoveryAcres', 'DispatchCenterID',\n",
       "       'EstimatedCostToDate', 'FinalFireReportApprovedByTitle',\n",
       "       'FinalFireReportApprovedByUnit', 'FinalFireReportApprovedDate',\n",
       "       'FireBehaviorGeneral', 'FireBehaviorGeneral1', 'FireBehaviorGeneral2',\n",
       "       'FireBehaviorGeneral3', 'FireCause', 'FireCauseGeneral',\n",
       "       'FireCauseSpecific', 'FireCode', 'FireDepartmentID',\n",
       "       'FireDiscoveryDateTime', 'FireMgmtComplexity', 'FireOutDateTime',\n",
       "       'FireStrategyConfinePercent', 'FireStrategyFullSuppPercent',\n",
       "       'FireStrategyMonitorPercent', 'FireStrategyPointZonePercent',\n",
       "       'FSJobCode', 'FSOverrideCode', 'GACC', 'ICS209ReportDateTime',\n",
       "       'ICS209ReportForTimePeriodFrom', 'ICS209ReportForTimePeriodTo',\n",
       "       'ICS209ReportStatus', 'IncidentManagementOrganization', 'IncidentName',\n",
       "       'IncidentShortDescription', 'IncidentTypeCategory', 'IncidentTypeKind',\n",
       "       'InitialLatitude', 'InitialLongitude', 'InitialResponseAcres',\n",
       "       'InitialResponseDateTime', 'IrwinID', 'IsFireCauseInvestigated',\n",
       "       'IsFireCodeRequested', 'IsFSAssisted', 'IsMultiJurisdictional',\n",
       "       'IsReimbursable', 'IsTrespass', 'IsUnifiedCommand',\n",
       "       'LocalIncidentIdentifier', 'PercentContained',\n",
       "       'PercentPerimeterToBeContained', 'POOCity', 'POOCounty',\n",
       "       'POODispatchCenterID', 'POOFips', 'POOJurisdictionalAgency',\n",
       "       'POOJurisdictionalUnit', 'POOJurisdictionalUnitParentUnit',\n",
       "       'POOLandownerCategory', 'POOLandownerKind',\n",
       "       'POOLegalDescPrincipalMeridian', 'POOLegalDescQtr',\n",
       "       'POOLegalDescQtrQtr', 'POOLegalDescRange', 'POOLegalDescSection',\n",
       "       'POOLegalDescTownship', 'POOPredictiveServiceAreaID',\n",
       "       'POOProtectingAgency', 'POOProtectingUnit', 'POOState',\n",
       "       'PredominantFuelGroup', 'PredominantFuelModel', 'PrimaryFuelModel',\n",
       "       'SecondaryFuelModel', 'TotalIncidentPersonnel', 'UniqueFireIdentifier',\n",
       "       'WFDSSDecisionStatus', 'CreatedBySystem', 'ModifiedBySystem',\n",
       "       'IsDispatchComplete', 'OrganizationalAssessment',\n",
       "       'StrategicDecisionPublishDate', 'CreatedOnDateTime_dt',\n",
       "       'ModifiedOnDateTime_dt', 'Source', 'GlobalID', 'IsCpxChild', 'CpxName',\n",
       "       'CpxID'],\n",
       "      dtype='object')"
      ]
     },
     "execution_count": 4,
     "metadata": {},
     "output_type": "execute_result"
    }
   ],
   "source": [
    "fire_locations_df.columns"
   ]
  },
  {
   "cell_type": "code",
   "execution_count": 5,
   "id": "4162555b",
   "metadata": {},
   "outputs": [
    {
     "data": {
      "text/html": [
       "<div>\n",
       "<style scoped>\n",
       "    .dataframe tbody tr th:only-of-type {\n",
       "        vertical-align: middle;\n",
       "    }\n",
       "\n",
       "    .dataframe tbody tr th {\n",
       "        vertical-align: top;\n",
       "    }\n",
       "\n",
       "    .dataframe thead th {\n",
       "        text-align: right;\n",
       "    }\n",
       "</style>\n",
       "<table border=\"1\" class=\"dataframe\">\n",
       "  <thead>\n",
       "    <tr style=\"text-align: right;\">\n",
       "      <th></th>\n",
       "      <th>FireDiscoveryDateTime</th>\n",
       "      <th>FireOutDateTime</th>\n",
       "      <th>IncidentName</th>\n",
       "      <th>X</th>\n",
       "      <th>Y</th>\n",
       "      <th>POOState</th>\n",
       "      <th>FireCause</th>\n",
       "      <th>FireOutDelta</th>\n",
       "    </tr>\n",
       "  </thead>\n",
       "  <tbody>\n",
       "    <tr>\n",
       "      <th>9</th>\n",
       "      <td>2015-06-09 03:36:00+00:00</td>\n",
       "      <td>2015-06-09 16:57:00+00:00</td>\n",
       "      <td>41</td>\n",
       "      <td>-119.693013</td>\n",
       "      <td>37.638805</td>\n",
       "      <td>US-CA</td>\n",
       "      <td>Human</td>\n",
       "      <td>0 days 13:21:00</td>\n",
       "    </tr>\n",
       "    <tr>\n",
       "      <th>23</th>\n",
       "      <td>2020-08-15 18:31:58+00:00</td>\n",
       "      <td>2020-08-16 15:59:59+00:00</td>\n",
       "      <td>SOUTH FORK</td>\n",
       "      <td>-122.901014</td>\n",
       "      <td>41.202338</td>\n",
       "      <td>US-CA</td>\n",
       "      <td>Human</td>\n",
       "      <td>0 days 21:28:01</td>\n",
       "    </tr>\n",
       "    <tr>\n",
       "      <th>24</th>\n",
       "      <td>2016-09-02 22:49:00+00:00</td>\n",
       "      <td>2016-09-04 00:59:59+00:00</td>\n",
       "      <td>Crown</td>\n",
       "      <td>-119.446513</td>\n",
       "      <td>38.114475</td>\n",
       "      <td>US-CA</td>\n",
       "      <td>Human</td>\n",
       "      <td>1 days 02:10:59</td>\n",
       "    </tr>\n",
       "    <tr>\n",
       "      <th>65</th>\n",
       "      <td>2018-10-09 20:36:59+00:00</td>\n",
       "      <td>2018-10-09 23:00:00+00:00</td>\n",
       "      <td>CAHUILLA</td>\n",
       "      <td>-116.769612</td>\n",
       "      <td>33.528925</td>\n",
       "      <td>US-CA</td>\n",
       "      <td>Human</td>\n",
       "      <td>0 days 02:23:01</td>\n",
       "    </tr>\n",
       "    <tr>\n",
       "      <th>79</th>\n",
       "      <td>2019-10-15 15:21:59+00:00</td>\n",
       "      <td>2019-10-26 20:23:59+00:00</td>\n",
       "      <td>Brannon</td>\n",
       "      <td>-123.441114</td>\n",
       "      <td>41.376505</td>\n",
       "      <td>US-CA</td>\n",
       "      <td>Unknown</td>\n",
       "      <td>11 days 05:02:00</td>\n",
       "    </tr>\n",
       "  </tbody>\n",
       "</table>\n",
       "</div>"
      ],
      "text/plain": [
       "       FireDiscoveryDateTime           FireOutDateTime IncidentName  \\\n",
       "9  2015-06-09 03:36:00+00:00 2015-06-09 16:57:00+00:00           41   \n",
       "23 2020-08-15 18:31:58+00:00 2020-08-16 15:59:59+00:00   SOUTH FORK   \n",
       "24 2016-09-02 22:49:00+00:00 2016-09-04 00:59:59+00:00        Crown   \n",
       "65 2018-10-09 20:36:59+00:00 2018-10-09 23:00:00+00:00     CAHUILLA   \n",
       "79 2019-10-15 15:21:59+00:00 2019-10-26 20:23:59+00:00      Brannon   \n",
       "\n",
       "             X          Y POOState FireCause     FireOutDelta  \n",
       "9  -119.693013  37.638805    US-CA     Human  0 days 13:21:00  \n",
       "23 -122.901014  41.202338    US-CA     Human  0 days 21:28:01  \n",
       "24 -119.446513  38.114475    US-CA     Human  1 days 02:10:59  \n",
       "65 -116.769612  33.528925    US-CA     Human  0 days 02:23:01  \n",
       "79 -123.441114  41.376505    US-CA   Unknown 11 days 05:02:00  "
      ]
     },
     "execution_count": 5,
     "metadata": {},
     "output_type": "execute_result"
    }
   ],
   "source": [
    "fire_discovered_and_out = fire_locations_df[[\"FireDiscoveryDateTime\", \"FireOutDateTime\", \"IncidentName\", \"X\", \"Y\", \"POOState\", \"FireCause\"]].dropna()\n",
    "\n",
    "# Use .loc to filter for the state of california\n",
    "fire_discovered_and_out = fire_discovered_and_out.loc[fire_discovered_and_out[\"POOState\"] == \"US-CA\"]\n",
    "\n",
    "fire_discovery_date_time = []\n",
    "fire_out_date_time = []\n",
    "fire_out_delta = []\n",
    "\n",
    "# We loop through all the rows, converting them to datetime objects\n",
    "for i in range(len(fire_discovered_and_out)):\n",
    "    \n",
    "    # We try to convert the discovery time and fire out time to a datetime object, if that raises an exception then\n",
    "    # we instead add a null value, (that we'll drop later)\n",
    "    try:\n",
    "        started = pd.to_datetime(fire_discovered_and_out[\"FireDiscoveryDateTime\"].iloc[i], format=\"%Y/%m/%d %H:%M:%S+%f\", utc=True)\n",
    "        fire_discovery_date_time.append(started)\n",
    "    except:\n",
    "        started = datetime.strptime(fire_discovered_and_out[\"FireDiscoveryDateTime\"].iloc[i], \"%Y/%m/%d %H:%M:%S+%f\", utc=True)\n",
    "        fire_discovery_date_time.append(pd.nan)\n",
    "        \n",
    "    try:    \n",
    "        out = pd.to_datetime(fire_discovered_and_out[\"FireOutDateTime\"].iloc[i], format=\"%Y/%m/%d %H:%M:%S+%f\", utc=True)\n",
    "        fire_out_date_time.append(out)\n",
    "    except:\n",
    "        out = datetime.strptime(fire_discovered_and_out[\"FireOutDateTime\"].iloc[i], \"%Y/%m/%d %H:%M:%S+%f\", utc=True)\n",
    "        fire_out_date_time.append(np.nan)\n",
    "    \n",
    "    # We also make a new column to keep track of how long the fire lasted\n",
    "    # A few rows must have been improperly filled out, as the fire was put out before it started\n",
    "    # So we try and if the time delta is negative, or it otherwise doesn't work we put in NaN which we will drop later\n",
    "    try:\n",
    "        time_delta = pd.Timedelta(out-started)\n",
    "    \n",
    "        if time_delta.days < 0:\n",
    "            fire_out_delta.append(np.nan)\n",
    "        \n",
    "        else:\n",
    "            fire_out_delta.append(pd.Timedelta(time_delta))\n",
    "    except:\n",
    "        fire_out_delta.append(np.nan)\n",
    "\n",
    "# now we update our dataframe \n",
    "fire_discovered_and_out[\"FireDiscoveryDateTime\"] = fire_discovery_date_time\n",
    "fire_discovered_and_out[\"FireOutDateTime\"] = fire_out_date_time\n",
    "fire_discovered_and_out[\"FireOutDelta\"] = fire_out_delta\n",
    "fire_discovered_and_out.head()\n"
   ]
  },
  {
   "cell_type": "code",
   "execution_count": 6,
   "id": "36a3f339",
   "metadata": {},
   "outputs": [],
   "source": [
    "# Now we dropna from this finished dataframe\n",
    "fire_time_delta_cleaned = fire_discovered_and_out.dropna()"
   ]
  },
  {
   "cell_type": "code",
   "execution_count": 7,
   "id": "7ced43a6",
   "metadata": {},
   "outputs": [],
   "source": [
    "# Here we define a bunch of functions to return a list of fire counts broken down by month, hour and by day of a given month\n",
    "# There's a much easier way to do this with groupby, but whatever\n",
    "\n",
    "def fire_counts_by_month(data):\n",
    "    fire_counts = [0,0,0,0,0,0,0,0,0,0,0,0]\n",
    "    for i in range(len(data)):\n",
    "        month = data[\"FireDiscoveryDateTime\"].iloc[i].tz_convert(tz=\"US/Pacific\").month\n",
    "        fire_counts[month -1] += 1\n",
    "    return fire_counts\n",
    "\n",
    "def fire_counts_by_hour(data):\n",
    "    fire_counts = []\n",
    "    for i in range(24):\n",
    "        fire_counts.append(0)\n",
    "    \n",
    "    for i in range(len(data)):\n",
    "        hour = data[\"FireDiscoveryDateTime\"].iloc[i].tz_convert(tz=\"US/Pacific\").hour\n",
    "        fire_counts[hour] += 1\n",
    "    return fire_counts\n",
    "\n",
    "# This one, in addition to the dataset, takes the target month as an integer and the number of days in that month\n",
    "def fire_counts_by_day(data, target_month, days):\n",
    "    fire_counts = []\n",
    "    for i in range(days):\n",
    "        fire_counts.append(0)\n",
    "\n",
    "    for i in range(len(data)):\n",
    "        month = data[\"FireDiscoveryDateTime\"].iloc[i].tz_convert(tz=\"US/Pacific\").month\n",
    "        if month == target_month:\n",
    "            day = fire_time_delta_cleaned[\"FireDiscoveryDateTime\"].iloc[i].tz_convert(tz=\"US/Pacific\").day\n",
    "            fire_counts[day -1] += 1\n",
    "    return fire_counts"
   ]
  },
  {
   "cell_type": "code",
   "execution_count": 8,
   "id": "42c65398",
   "metadata": {},
   "outputs": [
    {
     "name": "stdout",
     "output_type": "stream",
     "text": [
      "[138, 182, 169, 339, 708, 1364, 2640, 1804, 1005, 577, 304, 156]\n"
     ]
    },
    {
     "data": {
      "text/plain": [
       "<BarContainer object of 12 artists>"
      ]
     },
     "execution_count": 8,
     "metadata": {},
     "output_type": "execute_result"
    },
    {
     "data": {
      "image/png": "[encoded data removed]",
      "text/plain": [
       "<Figure size 432x288 with 1 Axes>"
      ]
     },
     "metadata": {
      "needs_background": "light"
     },
     "output_type": "display_data"
    }
   ],
   "source": [
    "fire_counts = fire_counts_by_month(fire_time_delta_cleaned)\n",
    "print(fire_counts)\n",
    "months = [\"Jan\", \"Feb\", \"Mar\", \"Apr\", \"May\", \"Jun\", \"Jul\", \"Aug\", \"Sep\", \"Oct\", \"Nov\", \"Dec\"]\n",
    "plt.bar(months, fire_counts)"
   ]
  },
  {
   "cell_type": "code",
   "execution_count": 9,
   "id": "88c11ce3",
   "metadata": {},
   "outputs": [
    {
     "name": "stdout",
     "output_type": "stream",
     "text": [
      "[67, 59, 44, 48, 45, 86, 135, 356, 450, 506, 616, 669, 720, 823, 835, 821, 756, 740, 500, 397, 281, 185, 125, 122]\n"
     ]
    },
    {
     "data": {
      "text/plain": [
       "<BarContainer object of 24 artists>"
      ]
     },
     "execution_count": 9,
     "metadata": {},
     "output_type": "execute_result"
    },
    {
     "data": {
      "image/png": "[encoded data removed]",
      "text/plain": [
       "<Figure size 432x288 with 1 Axes>"
      ]
     },
     "metadata": {
      "needs_background": "light"
     },
     "output_type": "display_data"
    }
   ],
   "source": [
    "fire_counts = fire_counts_by_hour(fire_time_delta_cleaned)\n",
    "print(fire_counts)\n",
    "plt.bar(range(24), fire_counts)"
   ]
  },
  {
   "cell_type": "code",
   "execution_count": 10,
   "id": "70ae50f4",
   "metadata": {},
   "outputs": [
    {
     "data": {
      "text/plain": [
       "<BarContainer object of 31 artists>"
      ]
     },
     "execution_count": 10,
     "metadata": {},
     "output_type": "execute_result"
    },
    {
     "data": {
      "image/png": "[encoded data removed]",
      "text/plain": [
       "<Figure size 432x288 with 1 Axes>"
      ]
     },
     "metadata": {
      "needs_background": "light"
     },
     "output_type": "display_data"
    }
   ],
   "source": [
    "fire_counts = fire_counts_by_day(fire_time_delta_cleaned, 7, 31)\n",
    "\n",
    "plt.bar(range(1, 32), fire_counts)"
   ]
  },
  {
   "cell_type": "code",
   "execution_count": 11,
   "id": "b00137d5",
   "metadata": {},
   "outputs": [
    {
     "data": {
      "text/plain": [
       "Int64Index([ 6,  8,  9, 10, 10,  8, 11,  8,  5,  6,\n",
       "            ...\n",
       "             7,  7,  7,  7,  7,  6,  7,  7,  7,  7],\n",
       "           dtype='int64', name='FireDiscoveryDateTime', length=9386)"
      ]
     },
     "execution_count": 11,
     "metadata": {},
     "output_type": "execute_result"
    }
   ],
   "source": [
    "# Here we set the fireDiscoveryDateTime as the index (makes it easier to get the month, day, hour, etc.)\n",
    "\n",
    "fire_time_delta_cleaned.index = fire_time_delta_cleaned[\"FireDiscoveryDateTime\"]\n",
    "fire_time_delta_cleaned.index.month"
   ]
  },
  {
   "cell_type": "code",
   "execution_count": 12,
   "id": "78c4a0be",
   "metadata": {},
   "outputs": [
    {
     "data": {
      "text/html": [
       "<div>\n",
       "<style scoped>\n",
       "    .dataframe tbody tr th:only-of-type {\n",
       "        vertical-align: middle;\n",
       "    }\n",
       "\n",
       "    .dataframe tbody tr th {\n",
       "        vertical-align: top;\n",
       "    }\n",
       "\n",
       "    .dataframe thead th {\n",
       "        text-align: right;\n",
       "    }\n",
       "</style>\n",
       "<table border=\"1\" class=\"dataframe\">\n",
       "  <thead>\n",
       "    <tr style=\"text-align: right;\">\n",
       "      <th></th>\n",
       "      <th>FireDiscoveryDateTime</th>\n",
       "      <th>FireOutDateTime</th>\n",
       "      <th>IncidentName</th>\n",
       "      <th>X</th>\n",
       "      <th>Y</th>\n",
       "      <th>POOState</th>\n",
       "      <th>FireCause</th>\n",
       "      <th>FireOutDelta</th>\n",
       "    </tr>\n",
       "    <tr>\n",
       "      <th>FireDiscoveryDateTime</th>\n",
       "      <th></th>\n",
       "      <th></th>\n",
       "      <th></th>\n",
       "      <th></th>\n",
       "      <th></th>\n",
       "      <th></th>\n",
       "      <th></th>\n",
       "      <th></th>\n",
       "    </tr>\n",
       "  </thead>\n",
       "  <tbody>\n",
       "    <tr>\n",
       "      <th>1</th>\n",
       "      <td>138</td>\n",
       "      <td>138</td>\n",
       "      <td>138</td>\n",
       "      <td>138</td>\n",
       "      <td>138</td>\n",
       "      <td>138</td>\n",
       "      <td>138</td>\n",
       "      <td>138</td>\n",
       "    </tr>\n",
       "    <tr>\n",
       "      <th>2</th>\n",
       "      <td>181</td>\n",
       "      <td>181</td>\n",
       "      <td>181</td>\n",
       "      <td>181</td>\n",
       "      <td>181</td>\n",
       "      <td>181</td>\n",
       "      <td>181</td>\n",
       "      <td>181</td>\n",
       "    </tr>\n",
       "    <tr>\n",
       "      <th>3</th>\n",
       "      <td>168</td>\n",
       "      <td>168</td>\n",
       "      <td>168</td>\n",
       "      <td>168</td>\n",
       "      <td>168</td>\n",
       "      <td>168</td>\n",
       "      <td>168</td>\n",
       "      <td>168</td>\n",
       "    </tr>\n",
       "    <tr>\n",
       "      <th>4</th>\n",
       "      <td>340</td>\n",
       "      <td>340</td>\n",
       "      <td>340</td>\n",
       "      <td>340</td>\n",
       "      <td>340</td>\n",
       "      <td>340</td>\n",
       "      <td>340</td>\n",
       "      <td>340</td>\n",
       "    </tr>\n",
       "    <tr>\n",
       "      <th>5</th>\n",
       "      <td>707</td>\n",
       "      <td>707</td>\n",
       "      <td>707</td>\n",
       "      <td>707</td>\n",
       "      <td>707</td>\n",
       "      <td>707</td>\n",
       "      <td>707</td>\n",
       "      <td>707</td>\n",
       "    </tr>\n",
       "    <tr>\n",
       "      <th>6</th>\n",
       "      <td>1352</td>\n",
       "      <td>1352</td>\n",
       "      <td>1352</td>\n",
       "      <td>1352</td>\n",
       "      <td>1352</td>\n",
       "      <td>1352</td>\n",
       "      <td>1352</td>\n",
       "      <td>1352</td>\n",
       "    </tr>\n",
       "    <tr>\n",
       "      <th>7</th>\n",
       "      <td>2618</td>\n",
       "      <td>2618</td>\n",
       "      <td>2618</td>\n",
       "      <td>2618</td>\n",
       "      <td>2618</td>\n",
       "      <td>2618</td>\n",
       "      <td>2618</td>\n",
       "      <td>2618</td>\n",
       "    </tr>\n",
       "    <tr>\n",
       "      <th>8</th>\n",
       "      <td>1836</td>\n",
       "      <td>1836</td>\n",
       "      <td>1836</td>\n",
       "      <td>1836</td>\n",
       "      <td>1836</td>\n",
       "      <td>1836</td>\n",
       "      <td>1836</td>\n",
       "      <td>1836</td>\n",
       "    </tr>\n",
       "    <tr>\n",
       "      <th>9</th>\n",
       "      <td>1007</td>\n",
       "      <td>1007</td>\n",
       "      <td>1007</td>\n",
       "      <td>1007</td>\n",
       "      <td>1007</td>\n",
       "      <td>1007</td>\n",
       "      <td>1007</td>\n",
       "      <td>1007</td>\n",
       "    </tr>\n",
       "    <tr>\n",
       "      <th>10</th>\n",
       "      <td>574</td>\n",
       "      <td>574</td>\n",
       "      <td>574</td>\n",
       "      <td>574</td>\n",
       "      <td>574</td>\n",
       "      <td>574</td>\n",
       "      <td>574</td>\n",
       "      <td>574</td>\n",
       "    </tr>\n",
       "    <tr>\n",
       "      <th>11</th>\n",
       "      <td>309</td>\n",
       "      <td>309</td>\n",
       "      <td>309</td>\n",
       "      <td>309</td>\n",
       "      <td>309</td>\n",
       "      <td>309</td>\n",
       "      <td>309</td>\n",
       "      <td>309</td>\n",
       "    </tr>\n",
       "    <tr>\n",
       "      <th>12</th>\n",
       "      <td>156</td>\n",
       "      <td>156</td>\n",
       "      <td>156</td>\n",
       "      <td>156</td>\n",
       "      <td>156</td>\n",
       "      <td>156</td>\n",
       "      <td>156</td>\n",
       "      <td>156</td>\n",
       "    </tr>\n",
       "  </tbody>\n",
       "</table>\n",
       "</div>"
      ],
      "text/plain": [
       "                       FireDiscoveryDateTime  FireOutDateTime  IncidentName  \\\n",
       "FireDiscoveryDateTime                                                         \n",
       "1                                        138              138           138   \n",
       "2                                        181              181           181   \n",
       "3                                        168              168           168   \n",
       "4                                        340              340           340   \n",
       "5                                        707              707           707   \n",
       "6                                       1352             1352          1352   \n",
       "7                                       2618             2618          2618   \n",
       "8                                       1836             1836          1836   \n",
       "9                                       1007             1007          1007   \n",
       "10                                       574              574           574   \n",
       "11                                       309              309           309   \n",
       "12                                       156              156           156   \n",
       "\n",
       "                          X     Y  POOState  FireCause  FireOutDelta  \n",
       "FireDiscoveryDateTime                                                 \n",
       "1                       138   138       138        138           138  \n",
       "2                       181   181       181        181           181  \n",
       "3                       168   168       168        168           168  \n",
       "4                       340   340       340        340           340  \n",
       "5                       707   707       707        707           707  \n",
       "6                      1352  1352      1352       1352          1352  \n",
       "7                      2618  2618      2618       2618          2618  \n",
       "8                      1836  1836      1836       1836          1836  \n",
       "9                      1007  1007      1007       1007          1007  \n",
       "10                      574   574       574        574           574  \n",
       "11                      309   309       309        309           309  \n",
       "12                      156   156       156        156           156  "
      ]
     },
     "execution_count": 12,
     "metadata": {},
     "output_type": "execute_result"
    }
   ],
   "source": [
    "fire_time_delta_cleaned.groupby(fire_time_delta_cleaned.index.month).count()"
   ]
  },
  {
   "cell_type": "code",
   "execution_count": 13,
   "id": "a45fa6fa",
   "metadata": {},
   "outputs": [
    {
     "data": {
      "text/html": [
       "<div>\n",
       "<style scoped>\n",
       "    .dataframe tbody tr th:only-of-type {\n",
       "        vertical-align: middle;\n",
       "    }\n",
       "\n",
       "    .dataframe tbody tr th {\n",
       "        vertical-align: top;\n",
       "    }\n",
       "\n",
       "    .dataframe thead th {\n",
       "        text-align: right;\n",
       "    }\n",
       "</style>\n",
       "<table border=\"1\" class=\"dataframe\">\n",
       "  <thead>\n",
       "    <tr style=\"text-align: right;\">\n",
       "      <th></th>\n",
       "      <th>FireDiscoveryDateTime</th>\n",
       "      <th>FireOutDateTime</th>\n",
       "      <th>IncidentName</th>\n",
       "      <th>X</th>\n",
       "      <th>Y</th>\n",
       "      <th>POOState</th>\n",
       "      <th>FireCause</th>\n",
       "      <th>FireOutDelta</th>\n",
       "    </tr>\n",
       "    <tr>\n",
       "      <th>FireDiscoveryDateTime</th>\n",
       "      <th></th>\n",
       "      <th></th>\n",
       "      <th></th>\n",
       "      <th></th>\n",
       "      <th></th>\n",
       "      <th></th>\n",
       "      <th></th>\n",
       "      <th></th>\n",
       "    </tr>\n",
       "  </thead>\n",
       "  <tbody>\n",
       "    <tr>\n",
       "      <th>2020-09-08 13:43:51+00:00</th>\n",
       "      <td>2020-09-08 13:43:51+00:00</td>\n",
       "      <td>2022-02-01 20:00:00+00:00</td>\n",
       "      <td>SLATER</td>\n",
       "      <td>-123.353598</td>\n",
       "      <td>41.858031</td>\n",
       "      <td>US-CA</td>\n",
       "      <td>Undetermined</td>\n",
       "      <td>511 days 06:16:09</td>\n",
       "    </tr>\n",
       "  </tbody>\n",
       "</table>\n",
       "</div>"
      ],
      "text/plain": [
       "                              FireDiscoveryDateTime           FireOutDateTime  \\\n",
       "FireDiscoveryDateTime                                                           \n",
       "2020-09-08 13:43:51+00:00 2020-09-08 13:43:51+00:00 2022-02-01 20:00:00+00:00   \n",
       "\n",
       "                          IncidentName           X          Y POOState  \\\n",
       "FireDiscoveryDateTime                                                    \n",
       "2020-09-08 13:43:51+00:00       SLATER -123.353598  41.858031    US-CA   \n",
       "\n",
       "                              FireCause      FireOutDelta  \n",
       "FireDiscoveryDateTime                                      \n",
       "2020-09-08 13:43:51+00:00  Undetermined 511 days 06:16:09  "
      ]
     },
     "execution_count": 13,
     "metadata": {},
     "output_type": "execute_result"
    }
   ],
   "source": [
    "fire_time_delta_cleaned.loc[fire_time_delta_cleaned[\"FireOutDelta\"] == fire_time_delta_cleaned[\"FireOutDelta\"].max()]"
   ]
  },
  {
   "cell_type": "code",
   "execution_count": 14,
   "id": "58dcd115",
   "metadata": {},
   "outputs": [
    {
     "data": {
      "text/plain": [
       "<matplotlib.legend.Legend at 0x166072acbb0>"
      ]
     },
     "execution_count": 14,
     "metadata": {},
     "output_type": "execute_result"
    },
    {
     "data": {
      "image/png": "[encoded data removed]",
      "text/plain": [
       "<Figure size 576x576 with 1 Axes>"
      ]
     },
     "metadata": {},
     "output_type": "display_data"
    }
   ],
   "source": [
    "fire_time_delta_cleaned.groupby(\"FireCause\").size().plot.pie(ylabel='', autopct='%1.1f%%', figsize = [8,8])\n",
    "plt.legend(loc=\"best\")"
   ]
  },
  {
   "cell_type": "code",
   "execution_count": 15,
   "id": "708be39b",
   "metadata": {},
   "outputs": [
    {
     "name": "stderr",
     "output_type": "stream",
     "text": [
      "C:\\Users\\wallh\\AppData\\Local\\Temp/ipykernel_17344/1858043445.py:7: SettingWithCopyWarning: \n",
      "A value is trying to be set on a copy of a slice from a DataFrame.\n",
      "Try using .loc[row_indexer,col_indexer] = value instead\n",
      "\n",
      "See the caveats in the documentation: https://pandas.pydata.org/pandas-docs/stable/user_guide/indexing.html#returning-a-view-versus-a-copy\n",
      "  fire_time_delta_cleaned[\"LocalTimeOfDay\"] = time_of_day\n",
      "C:\\Users\\wallh\\AppData\\Local\\Temp/ipykernel_17344/1858043445.py:13: SettingWithCopyWarning: \n",
      "A value is trying to be set on a copy of a slice from a DataFrame.\n",
      "Try using .loc[row_indexer,col_indexer] = value instead\n",
      "\n",
      "See the caveats in the documentation: https://pandas.pydata.org/pandas-docs/stable/user_guide/indexing.html#returning-a-view-versus-a-copy\n",
      "  fire_time_delta_cleaned[\"LocalMonth\"] = count_by_month\n"
     ]
    }
   ],
   "source": [
    "# Here we add hour and month columns to the dataframe to use for our groupby, localized to pacific time zone\n",
    "\n",
    "time_of_day = []\n",
    "for i in range(len(fire_time_delta_cleaned)):\n",
    "    time_of_day.append(fire_time_delta_cleaned[\"FireDiscoveryDateTime\"].iloc[i].tz_convert(tz=\"US/Pacific\").hour)\n",
    "\n",
    "fire_time_delta_cleaned[\"LocalTimeOfDay\"] = time_of_day\n",
    "\n",
    "count_by_month = []\n",
    "for i in range(len(fire_time_delta_cleaned)):\n",
    "    count_by_month.append(fire_time_delta_cleaned[\"FireDiscoveryDateTime\"].iloc[i].tz_convert(tz=\"US/Pacific\").month)\n",
    "\n",
    "fire_time_delta_cleaned[\"LocalMonth\"] = count_by_month"
   ]
  },
  {
   "cell_type": "code",
   "execution_count": 16,
   "id": "04576595",
   "metadata": {},
   "outputs": [
    {
     "data": {
      "text/plain": [
       "Timestamp('2015-06-08 20:36:00-0700', tz='US/Pacific')"
      ]
     },
     "execution_count": 16,
     "metadata": {},
     "output_type": "execute_result"
    }
   ],
   "source": [
    "fire_time_delta_cleaned[\"FireDiscoveryDateTime\"].iloc[0].tz_convert(tz=\"US/Pacific\")"
   ]
  },
  {
   "cell_type": "code",
   "execution_count": 17,
   "id": "50e33e87",
   "metadata": {},
   "outputs": [
    {
     "data": {
      "image/png": "[encoded data removed]",
      "text/plain": [
       "<Figure size 1440x360 with 1 Axes>"
      ]
     },
     "metadata": {
      "needs_background": "light"
     },
     "output_type": "display_data"
    }
   ],
   "source": [
    "fire_by_time_human = fire_time_delta_cleaned.loc[fire_time_delta_cleaned[\"FireCause\"] == \"Human\"].groupby(\"LocalTimeOfDay\").size()\n",
    "fire_by_time_natural = fire_time_delta_cleaned.loc[fire_time_delta_cleaned[\"FireCause\"] == \"Natural\"].groupby(\"LocalTimeOfDay\").size()\n",
    "times_of_day = [\"12am\", \"1am\", \"2am\", \"3am\", \"4am\", \"5am\", \"6am\", \"7am\", \"8am\", \"9am\", \"10am\", \"11am\", \"12pm\", \"1pm\", \"2pm\", \"3pm\", \"4pm\", \"5pm\", \"6pm\", \"7pm\", \"8pm\", \"9pm\", \"10pm\", \"11pm\"]\n",
    "\n",
    "fig, ax = plt.subplots(figsize=(20,5))\n",
    "\n",
    "ax.plot(times_of_day, fire_by_time_human, label=\"Human\")\n",
    "ax.plot(times_of_day, fire_by_time_natural, label=\"Natural\")\n",
    "ax.legend()\n",
    "\n",
    "plt.show()"
   ]
  },
  {
   "cell_type": "code",
   "execution_count": 18,
   "id": "0992c376",
   "metadata": {},
   "outputs": [
    {
     "data": {
      "image/png": "[encoded data removed]",
      "text/plain": [
       "<Figure size 1440x360 with 1 Axes>"
      ]
     },
     "metadata": {
      "needs_background": "light"
     },
     "output_type": "display_data"
    }
   ],
   "source": [
    "fire_by_month_human = fire_time_delta_cleaned.loc[fire_time_delta_cleaned[\"FireCause\"] == \"Human\"].groupby(\"LocalMonth\").size()\n",
    "fire_by_month_natural = fire_time_delta_cleaned.loc[fire_time_delta_cleaned[\"FireCause\"] == \"Natural\"].groupby(\"LocalMonth\").size()\n",
    "months = [\"Jan\", \"Feb\", \"Mar\", \"Apr\", \"May\", \"Jun\", \"July\", \"Aug\", \"Sept\", \"Oct\", \"Nov\", \"Dec\"]\n",
    "\n",
    "fig, ax = plt.subplots(figsize=(20,5))\n",
    "\n",
    "ax.plot(months, fire_by_month_human, label=\"Human\")\n",
    "ax.plot(months, fire_by_month_natural, label=\"Natural\")\n",
    "ax.legend()\n",
    "\n",
    "plt.show()"
   ]
  },
  {
   "cell_type": "code",
   "execution_count": 19,
   "id": "1b3da099",
   "metadata": {},
   "outputs": [
    {
     "data": {
      "text/html": [
       "<div>\n",
       "<style scoped>\n",
       "    .dataframe tbody tr th:only-of-type {\n",
       "        vertical-align: middle;\n",
       "    }\n",
       "\n",
       "    .dataframe tbody tr th {\n",
       "        vertical-align: top;\n",
       "    }\n",
       "\n",
       "    .dataframe thead th {\n",
       "        text-align: right;\n",
       "    }\n",
       "</style>\n",
       "<table border=\"1\" class=\"dataframe\">\n",
       "  <thead>\n",
       "    <tr style=\"text-align: right;\">\n",
       "      <th></th>\n",
       "      <th>FireDiscoveryDateTime</th>\n",
       "      <th>FireOutDateTime</th>\n",
       "      <th>IncidentName</th>\n",
       "      <th>X</th>\n",
       "      <th>Y</th>\n",
       "      <th>POOState</th>\n",
       "      <th>FireCause</th>\n",
       "      <th>FireOutDelta</th>\n",
       "      <th>LocalTimeOfDay</th>\n",
       "      <th>LocalMonth</th>\n",
       "    </tr>\n",
       "    <tr>\n",
       "      <th>FireDiscoveryDateTime</th>\n",
       "      <th></th>\n",
       "      <th></th>\n",
       "      <th></th>\n",
       "      <th></th>\n",
       "      <th></th>\n",
       "      <th></th>\n",
       "      <th></th>\n",
       "      <th></th>\n",
       "      <th></th>\n",
       "      <th></th>\n",
       "    </tr>\n",
       "  </thead>\n",
       "  <tbody>\n",
       "    <tr>\n",
       "      <th>2015-06-09 03:36:00+00:00</th>\n",
       "      <td>2015-06-09 03:36:00+00:00</td>\n",
       "      <td>2015-06-09 16:57:00+00:00</td>\n",
       "      <td>41</td>\n",
       "      <td>-119.693013</td>\n",
       "      <td>37.638805</td>\n",
       "      <td>US-CA</td>\n",
       "      <td>Human</td>\n",
       "      <td>0 days 13:21:00</td>\n",
       "      <td>20</td>\n",
       "      <td>6</td>\n",
       "    </tr>\n",
       "    <tr>\n",
       "      <th>2020-08-15 18:31:58+00:00</th>\n",
       "      <td>2020-08-15 18:31:58+00:00</td>\n",
       "      <td>2020-08-16 15:59:59+00:00</td>\n",
       "      <td>SOUTH FORK</td>\n",
       "      <td>-122.901014</td>\n",
       "      <td>41.202338</td>\n",
       "      <td>US-CA</td>\n",
       "      <td>Human</td>\n",
       "      <td>0 days 21:28:01</td>\n",
       "      <td>11</td>\n",
       "      <td>8</td>\n",
       "    </tr>\n",
       "    <tr>\n",
       "      <th>2016-09-02 22:49:00+00:00</th>\n",
       "      <td>2016-09-02 22:49:00+00:00</td>\n",
       "      <td>2016-09-04 00:59:59+00:00</td>\n",
       "      <td>Crown</td>\n",
       "      <td>-119.446513</td>\n",
       "      <td>38.114475</td>\n",
       "      <td>US-CA</td>\n",
       "      <td>Human</td>\n",
       "      <td>1 days 02:10:59</td>\n",
       "      <td>15</td>\n",
       "      <td>9</td>\n",
       "    </tr>\n",
       "    <tr>\n",
       "      <th>2018-10-09 20:36:59+00:00</th>\n",
       "      <td>2018-10-09 20:36:59+00:00</td>\n",
       "      <td>2018-10-09 23:00:00+00:00</td>\n",
       "      <td>CAHUILLA</td>\n",
       "      <td>-116.769612</td>\n",
       "      <td>33.528925</td>\n",
       "      <td>US-CA</td>\n",
       "      <td>Human</td>\n",
       "      <td>0 days 02:23:01</td>\n",
       "      <td>13</td>\n",
       "      <td>10</td>\n",
       "    </tr>\n",
       "    <tr>\n",
       "      <th>2019-10-15 15:21:59+00:00</th>\n",
       "      <td>2019-10-15 15:21:59+00:00</td>\n",
       "      <td>2019-10-26 20:23:59+00:00</td>\n",
       "      <td>Brannon</td>\n",
       "      <td>-123.441114</td>\n",
       "      <td>41.376505</td>\n",
       "      <td>US-CA</td>\n",
       "      <td>Unknown</td>\n",
       "      <td>11 days 05:02:00</td>\n",
       "      <td>8</td>\n",
       "      <td>10</td>\n",
       "    </tr>\n",
       "    <tr>\n",
       "      <th>...</th>\n",
       "      <td>...</td>\n",
       "      <td>...</td>\n",
       "      <td>...</td>\n",
       "      <td>...</td>\n",
       "      <td>...</td>\n",
       "      <td>...</td>\n",
       "      <td>...</td>\n",
       "      <td>...</td>\n",
       "      <td>...</td>\n",
       "      <td>...</td>\n",
       "    </tr>\n",
       "    <tr>\n",
       "      <th>2022-06-26 18:33:51+00:00</th>\n",
       "      <td>2022-06-26 18:33:51+00:00</td>\n",
       "      <td>2022-07-11 19:30:00+00:00</td>\n",
       "      <td>FROG</td>\n",
       "      <td>-120.008813</td>\n",
       "      <td>38.553945</td>\n",
       "      <td>US-CA</td>\n",
       "      <td>Natural</td>\n",
       "      <td>15 days 00:56:09</td>\n",
       "      <td>11</td>\n",
       "      <td>6</td>\n",
       "    </tr>\n",
       "    <tr>\n",
       "      <th>2022-07-11 22:18:59+00:00</th>\n",
       "      <td>2022-07-11 22:18:59+00:00</td>\n",
       "      <td>2022-07-15 19:36:00+00:00</td>\n",
       "      <td>Christian</td>\n",
       "      <td>-123.618014</td>\n",
       "      <td>40.909372</td>\n",
       "      <td>US-CA</td>\n",
       "      <td>Undetermined</td>\n",
       "      <td>3 days 21:17:01</td>\n",
       "      <td>15</td>\n",
       "      <td>7</td>\n",
       "    </tr>\n",
       "    <tr>\n",
       "      <th>2022-07-12 22:50:59+00:00</th>\n",
       "      <td>2022-07-12 22:50:59+00:00</td>\n",
       "      <td>2022-07-15 20:53:00+00:00</td>\n",
       "      <td>White</td>\n",
       "      <td>-119.419013</td>\n",
       "      <td>37.912135</td>\n",
       "      <td>US-CA</td>\n",
       "      <td>Undetermined</td>\n",
       "      <td>2 days 22:02:01</td>\n",
       "      <td>15</td>\n",
       "      <td>7</td>\n",
       "    </tr>\n",
       "    <tr>\n",
       "      <th>2022-07-13 18:43:59+00:00</th>\n",
       "      <td>2022-07-13 18:43:59+00:00</td>\n",
       "      <td>2022-07-14 23:02:00+00:00</td>\n",
       "      <td>Nervino</td>\n",
       "      <td>-120.359813</td>\n",
       "      <td>39.818565</td>\n",
       "      <td>US-CA</td>\n",
       "      <td>Undetermined</td>\n",
       "      <td>1 days 04:18:01</td>\n",
       "      <td>11</td>\n",
       "      <td>7</td>\n",
       "    </tr>\n",
       "    <tr>\n",
       "      <th>2022-07-12 18:46:00+00:00</th>\n",
       "      <td>2022-07-12 18:46:00+00:00</td>\n",
       "      <td>2022-07-13 19:20:00+00:00</td>\n",
       "      <td>MM 10</td>\n",
       "      <td>-124.035764</td>\n",
       "      <td>41.833288</td>\n",
       "      <td>US-CA</td>\n",
       "      <td>Undetermined</td>\n",
       "      <td>1 days 00:34:00</td>\n",
       "      <td>11</td>\n",
       "      <td>7</td>\n",
       "    </tr>\n",
       "  </tbody>\n",
       "</table>\n",
       "<p>9386 rows × 10 columns</p>\n",
       "</div>"
      ],
      "text/plain": [
       "                              FireDiscoveryDateTime           FireOutDateTime  \\\n",
       "FireDiscoveryDateTime                                                           \n",
       "2015-06-09 03:36:00+00:00 2015-06-09 03:36:00+00:00 2015-06-09 16:57:00+00:00   \n",
       "2020-08-15 18:31:58+00:00 2020-08-15 18:31:58+00:00 2020-08-16 15:59:59+00:00   \n",
       "2016-09-02 22:49:00+00:00 2016-09-02 22:49:00+00:00 2016-09-04 00:59:59+00:00   \n",
       "2018-10-09 20:36:59+00:00 2018-10-09 20:36:59+00:00 2018-10-09 23:00:00+00:00   \n",
       "2019-10-15 15:21:59+00:00 2019-10-15 15:21:59+00:00 2019-10-26 20:23:59+00:00   \n",
       "...                                             ...                       ...   \n",
       "2022-06-26 18:33:51+00:00 2022-06-26 18:33:51+00:00 2022-07-11 19:30:00+00:00   \n",
       "2022-07-11 22:18:59+00:00 2022-07-11 22:18:59+00:00 2022-07-15 19:36:00+00:00   \n",
       "2022-07-12 22:50:59+00:00 2022-07-12 22:50:59+00:00 2022-07-15 20:53:00+00:00   \n",
       "2022-07-13 18:43:59+00:00 2022-07-13 18:43:59+00:00 2022-07-14 23:02:00+00:00   \n",
       "2022-07-12 18:46:00+00:00 2022-07-12 18:46:00+00:00 2022-07-13 19:20:00+00:00   \n",
       "\n",
       "                          IncidentName           X          Y POOState  \\\n",
       "FireDiscoveryDateTime                                                    \n",
       "2015-06-09 03:36:00+00:00           41 -119.693013  37.638805    US-CA   \n",
       "2020-08-15 18:31:58+00:00   SOUTH FORK -122.901014  41.202338    US-CA   \n",
       "2016-09-02 22:49:00+00:00        Crown -119.446513  38.114475    US-CA   \n",
       "2018-10-09 20:36:59+00:00     CAHUILLA -116.769612  33.528925    US-CA   \n",
       "2019-10-15 15:21:59+00:00      Brannon -123.441114  41.376505    US-CA   \n",
       "...                                ...         ...        ...      ...   \n",
       "2022-06-26 18:33:51+00:00         FROG -120.008813  38.553945    US-CA   \n",
       "2022-07-11 22:18:59+00:00    Christian -123.618014  40.909372    US-CA   \n",
       "2022-07-12 22:50:59+00:00       White  -119.419013  37.912135    US-CA   \n",
       "2022-07-13 18:43:59+00:00      Nervino -120.359813  39.818565    US-CA   \n",
       "2022-07-12 18:46:00+00:00        MM 10 -124.035764  41.833288    US-CA   \n",
       "\n",
       "                              FireCause     FireOutDelta  LocalTimeOfDay  \\\n",
       "FireDiscoveryDateTime                                                      \n",
       "2015-06-09 03:36:00+00:00         Human  0 days 13:21:00              20   \n",
       "2020-08-15 18:31:58+00:00         Human  0 days 21:28:01              11   \n",
       "2016-09-02 22:49:00+00:00         Human  1 days 02:10:59              15   \n",
       "2018-10-09 20:36:59+00:00         Human  0 days 02:23:01              13   \n",
       "2019-10-15 15:21:59+00:00       Unknown 11 days 05:02:00               8   \n",
       "...                                 ...              ...             ...   \n",
       "2022-06-26 18:33:51+00:00       Natural 15 days 00:56:09              11   \n",
       "2022-07-11 22:18:59+00:00  Undetermined  3 days 21:17:01              15   \n",
       "2022-07-12 22:50:59+00:00  Undetermined  2 days 22:02:01              15   \n",
       "2022-07-13 18:43:59+00:00  Undetermined  1 days 04:18:01              11   \n",
       "2022-07-12 18:46:00+00:00  Undetermined  1 days 00:34:00              11   \n",
       "\n",
       "                           LocalMonth  \n",
       "FireDiscoveryDateTime                  \n",
       "2015-06-09 03:36:00+00:00           6  \n",
       "2020-08-15 18:31:58+00:00           8  \n",
       "2016-09-02 22:49:00+00:00           9  \n",
       "2018-10-09 20:36:59+00:00          10  \n",
       "2019-10-15 15:21:59+00:00          10  \n",
       "...                               ...  \n",
       "2022-06-26 18:33:51+00:00           6  \n",
       "2022-07-11 22:18:59+00:00           7  \n",
       "2022-07-12 22:50:59+00:00           7  \n",
       "2022-07-13 18:43:59+00:00           7  \n",
       "2022-07-12 18:46:00+00:00           7  \n",
       "\n",
       "[9386 rows x 10 columns]"
      ]
     },
     "execution_count": 19,
     "metadata": {},
     "output_type": "execute_result"
    }
   ],
   "source": [
    "fire_time_delta_cleaned"
   ]
  },
  {
   "cell_type": "code",
   "execution_count": 20,
   "id": "ab2bd9ef",
   "metadata": {},
   "outputs": [
    {
     "data": {
      "text/plain": [
       "datetime.timezone(datetime.timedelta(days=-1, seconds=72000), 'Eastern Daylight Time')"
      ]
     },
     "execution_count": 20,
     "metadata": {},
     "output_type": "execute_result"
    }
   ],
   "source": [
    "datetime.now(timezone.utc).astimezone().tzinfo"
   ]
  },
  {
   "cell_type": "code",
   "execution_count": 21,
   "id": "b83ae253",
   "metadata": {},
   "outputs": [
    {
     "data": {
      "text/plain": [
       "Timestamp('2015-06-09 03:36:00+0000', tz='UTC')"
      ]
     },
     "execution_count": 21,
     "metadata": {},
     "output_type": "execute_result"
    }
   ],
   "source": [
    "fire_time_delta_cleaned[\"FireDiscoveryDateTime\"].iloc[0]"
   ]
  },
  {
   "cell_type": "code",
   "execution_count": 22,
   "id": "2dd844e5",
   "metadata": {},
   "outputs": [],
   "source": [
    "fire_time_delta_cleaned.reset_index(drop=True).to_json(\"wildfiresCleaned.json\")"
   ]
  }
 ],
 "metadata": {
  "kernelspec": {
   "display_name": "Python 3 (ipykernel)",
   "language": "python",
   "name": "python3"
  },
  "language_info": {
   "codemirror_mode": {
    "name": "ipython",
    "version": 3
   },
   "file_extension": ".py",
   "mimetype": "text/x-python",
   "name": "python",
   "nbconvert_exporter": "python",
   "pygments_lexer": "ipython3",
   "version": "3.9.7"
  }
 },
 "nbformat": 4,
 "nbformat_minor": 5
}
